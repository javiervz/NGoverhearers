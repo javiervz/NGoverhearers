{
 "cells": [
  {
   "cell_type": "markdown",
   "id": "74ce7523",
   "metadata": {},
   "source": [
    "## Overhearing population\n",
    "### https://iopscience.iop.org/article/10.1209/0295-5075/101/68004/meta\n",
    "### https://langev.com/pdf/0bqCwMtiFdoJ.pdf"
   ]
  },
  {
   "cell_type": "markdown",
   "id": "f1bea965",
   "metadata": {},
   "source": [
    "### 1. basic speaker-hearer rules"
   ]
  },
  {
   "cell_type": "code",
   "execution_count": 1,
   "id": "98eed277",
   "metadata": {},
   "outputs": [],
   "source": [
    "## basic speaker-hearer rules\n",
    "\n",
    "import random\n",
    "\n",
    "## s is one node of P (population-graph)\n",
    "## M is the dictionary of memories {node:memory list of node}\n",
    "## V is a predefined vocabulary\n",
    "def speaker_rule(s,M,V):\n",
    "    ## the speaker s selects one word w from her inventory\n",
    "    if len(M[s])==0:\n",
    "        w = random.choice(V)\n",
    "        M[s]+=[w]\n",
    "    else:\n",
    "        w = random.choice(M[s])\n",
    "    return w\n",
    "\n",
    "## h is one node of P (population-graph)\n",
    "## word is the word uttered by the speaker\n",
    "## M is the dictionary of memories {node:memory list of node}\n",
    "def hearer_rule(h,word,M):\n",
    "    ## the hearer receives word \n",
    "    success = False\n",
    "    if word in M[h]:\n",
    "        success = True\n",
    "    return success"
   ]
  },
  {
   "cell_type": "markdown",
   "id": "f7a10ceb",
   "metadata": {},
   "source": [
    "### 2. basic dynamics"
   ]
  },
  {
   "cell_type": "code",
   "execution_count": 2,
   "id": "caff6ba4",
   "metadata": {},
   "outputs": [],
   "source": [
    "## s is one node of P (population-graph)\n",
    "## h is one node of P (population-graph)\n",
    "## word is speaker's word\n",
    "## M is the dictionary of memories {node:memory list of node}\n",
    "## V is a predefined vocabulary\n",
    "\n",
    "def dynamics(s,h,word,M,V):\n",
    "    ## hearer's state\n",
    "    success = hearer_rule(h,word,M)\n",
    "    ## alignment strategies\n",
    "    if success == True:\n",
    "        M[s]=[word]\n",
    "        M[h]=[word]\n",
    "    else:\n",
    "        M[h]+=[word]\n",
    "    return M  "
   ]
  },
  {
   "cell_type": "code",
   "execution_count": 3,
   "id": "ed82539b",
   "metadata": {},
   "outputs": [],
   "source": [
    "## some measures\n",
    "\n",
    "def measure_number_words(M):\n",
    "    join_M = [item for item in M.values()]\n",
    "    join_M = [item for sublist in join_M for item in sublist]\n",
    "    return len(join_M),len(set(join_M))"
   ]
  },
  {
   "cell_type": "code",
   "execution_count": 4,
   "id": "cecbf894",
   "metadata": {},
   "outputs": [],
   "source": [
    "import networkx as nx\n",
    "import math \n",
    "import numpy as np\n",
    "\n",
    "repetitions = 2\n",
    "T = 500000\n",
    "number_nodes = 1024\n",
    "## the simplest version!\n",
    "P = nx.grid_graph(dim=(int(np.sqrt(number_nodes)), int(np.sqrt(number_nodes))),periodic=True)#\n",
    "number_words = 100\n",
    "V = range(number_words)\n",
    "percentage_over = 4*1/number_nodes\n",
    "\n",
    "number_list = []\n",
    "for r in range(repetitions):\n",
    "    \n",
    "    M = {node:[] for node in P.nodes()}\n",
    "    number = []\n",
    "    \n",
    "    for t in range(T):\n",
    "    \n",
    "        a,b = measure_number_words(M)\n",
    "        number+=[[a,b]]\n",
    "    \n",
    "        ## speaker\n",
    "        others = list(P.nodes())\n",
    "        speaker = random.choice(others)\n",
    "        hearer_central = random.choice([node for node in others if P.has_edge(node,speaker)])\n",
    "        ## overhearers (percentage of the neighbors of the speaker)\n",
    "        overhearers = random.sample(list(dict(P[speaker]).keys()),4)#math.ceil(percentage_over*len(P[speaker])))\n",
    "        ## one overhearer to interact with the speaker\n",
    "        word = speaker_rule(speaker,M,V)\n",
    "        ## speaker-hearer interaction!\n",
    "        M = dynamics(speaker,hearer_central,word,M,V)\n",
    "        for hearer in overhearers:\n",
    "            success = hearer_rule(hearer,word,M)\n",
    "            if success == True:\n",
    "                M[hearer]=[word]\n",
    "            else:\n",
    "                M[hearer]+=[word]    \n",
    "                \n",
    "    number_list+=[number]"
   ]
  },
  {
   "cell_type": "code",
   "execution_count": 5,
   "id": "b816b439",
   "metadata": {},
   "outputs": [],
   "source": [
    "numberW = []\n",
    "for item in number_list:\n",
    "    numberW+=[list(zip(*item))[0]]\n",
    "    \n",
    "numberW = [float(sum(col))/len(col)/number_nodes for col in zip(*numberW)]"
   ]
  },
  {
   "cell_type": "code",
   "execution_count": 6,
   "id": "9c53b0b7",
   "metadata": {},
   "outputs": [],
   "source": [
    "numberD = []\n",
    "for item in number_list:\n",
    "    numberD+=[list(zip(*item))[1]]\n",
    "    \n",
    "numberD = [float(sum(col))/len(col) for col in zip(*numberD)]"
   ]
  },
  {
   "cell_type": "code",
   "execution_count": 7,
   "id": "911e6a78",
   "metadata": {},
   "outputs": [
    {
     "data": {
      "image/png": "[encoded data removed]",
      "text/plain": [
       "<Figure size 432x288 with 1 Axes>"
      ]
     },
     "metadata": {
      "needs_background": "light"
     },
     "output_type": "display_data"
    }
   ],
   "source": [
    "import matplotlib.pyplot as plt\n",
    "\n",
    "plt.plot(range(len(numberW)), numberW,color='k',linewidth=0.75,marker='o',markersize=3,fillstyle='none',markeredgewidth=1.5,clip_on=False,label=r'$N_w(t)$')\n",
    "plt.plot(range(len(numberD)), numberD,color='m',linewidth=0.75,marker='+',markersize=3,fillstyle='none',markeredgewidth=1.5,clip_on=False,label=r'$N_d(t)$')\n",
    "\n",
    "plt.ticklabel_format(axis='x', style='sci',scilimits=(0,5))\n",
    "plt.legend(loc='best')\n",
    "plt.ylabel('number or words',fontsize=15)\n",
    "plt.xlabel('time $t$',fontsize=15)\n",
    "plt.rcParams.update({'font.size': 12})\n",
    "plt.savefig('words.pdf', format='pdf', transparent=True, bbox_inches='tight',dpi=800)\n",
    "plt.show()"
   ]
  },
  {
   "cell_type": "markdown",
   "id": "4c13699d",
   "metadata": {},
   "source": [
    "### 3. frozen overhearers"
   ]
  },
  {
   "cell_type": "code",
   "execution_count": null,
   "id": "e19e0c45",
   "metadata": {},
   "outputs": [],
   "source": [
    "## In this version, an overhearer may collapse at most one time. \n",
    "\n",
    "repetitions = 2\n",
    "T = 500000\n",
    "number_nodes = 1024\n",
    "## the simplest version!\n",
    "P = nx.grid_graph(dim=(int(np.sqrt(number_nodes)), int(np.sqrt(number_nodes))),periodic=True)#\n",
    "number_words = 100\n",
    "V = range(number_words)\n",
    "percentage_over = 4*1/number_nodes\n",
    "\n",
    "number_list = []\n",
    "for r in range(repetitions):\n",
    "    \n",
    "    M = {node:[] for node in P.nodes()}\n",
    "    frozen = {node:0 for node in P.nodes()}\n",
    "    number = []\n",
    "    \n",
    "    for t in range(T):\n",
    "    \n",
    "        a,b = measure_number_words(M)\n",
    "        number+=[[a,b]]\n",
    "    \n",
    "        ## speaker\n",
    "        others = list(P.nodes())\n",
    "        speaker = random.choice(others)\n",
    "        hearer_central = random.choice([node for node in others if P.has_edge(node,speaker)])\n",
    "        ## overhearers (percentage of the neighbors of the speaker)\n",
    "        overhearers = random.sample(list(dict(P[speaker]).keys()),4)#math.ceil(percentage_over*len(P[speaker])))\n",
    "        ## one overhearer to interact with the speaker\n",
    "        word = speaker_rule(speaker,M,V)\n",
    "        ## speaker-hearer interaction!\n",
    "        M = dynamics(speaker,hearer_central,word,M,V)\n",
    "        for hearer in overhearers:\n",
    "            success = hearer_rule(hearer,word,M)\n",
    "            if success == True:\n",
    "                if frozen[hearer]==0:\n",
    "                    M[hearer]=[word]\n",
    "                    frozen[hearer]=1\n",
    "            else:\n",
    "                if frozen[hearer]==0:\n",
    "                    M[hearer]+=[word]     \n",
    "                \n",
    "    number_list+=[number]"
   ]
  },
  {
   "cell_type": "code",
   "execution_count": null,
   "id": "d86b0ac4",
   "metadata": {},
   "outputs": [],
   "source": [
    "numberW = []\n",
    "for item in number_list:\n",
    "    numberW+=[list(zip(*item))[0]]\n",
    "    \n",
    "numberW = [float(sum(col))/len(col) for col in zip(*numberW)]"
   ]
  },
  {
   "cell_type": "code",
   "execution_count": null,
   "id": "6680f65c",
   "metadata": {},
   "outputs": [],
   "source": [
    "numberD = []\n",
    "for item in number_list:\n",
    "    numberD+=[list(zip(*item))[1]]\n",
    "    \n",
    "numberD = [float(sum(col))/len(col) for col in zip(*numberD)]"
   ]
  },
  {
   "cell_type": "code",
   "execution_count": null,
   "id": "ed7656e6",
   "metadata": {},
   "outputs": [
    {
     "data": {
      "image/png": "[encoded data removed]",
      "text/plain": [
       "<Figure size 432x288 with 1 Axes>"
      ]
     },
     "metadata": {
      "needs_background": "light"
     },
     "output_type": "display_data"
    }
   ],
   "source": [
    "plt.plot(range(len(numberW)), numberW,color='k',linewidth=0.75,marker='o',markersize=3,fillstyle='none',markeredgewidth=1.5,clip_on=False,label=r'$N_w(t)$')\n",
    "plt.plot(range(len(numberD)), numberD,color='m',linewidth=0.75,marker='+',markersize=3,fillstyle='none',markeredgewidth=1.5,clip_on=False,label=r'$N_d(t)$')\n",
    "\n",
    "plt.ticklabel_format(axis='x', style='sci',scilimits=(0,5))\n",
    "plt.legend(loc='best')\n",
    "plt.ylabel('number or words',fontsize=15)\n",
    "plt.xlabel('time $t$',fontsize=15)\n",
    "plt.rcParams.update({'font.size': 12})\n",
    "plt.savefig('frozen_words.pdf', format='pdf', transparent=True, bbox_inches='tight',dpi=800)\n",
    "plt.show()"
   ]
  },
  {
   "cell_type": "code",
   "execution_count": null,
   "id": "a3065cd5",
   "metadata": {},
   "outputs": [],
   "source": [
    "## In this new version, an overhearer remains frozen after one collapse.\n",
    "\n",
    "## s is one node of P (population-graph)\n",
    "## h is one node of P (population-graph)\n",
    "## word is speaker's word\n",
    "## M is the dictionary of memories {node:memory list of node}\n",
    "## V is a predefined vocabulary\n",
    "## frozen is a dictionary of frozen states\n",
    "\n",
    "def dynamics_frozen(s,h,word,M,V,frozen):\n",
    "    ## hearer's state\n",
    "    success = hearer_rule(h,word,M)\n",
    "    ## alignment strategies\n",
    "    if success == True:\n",
    "        if frozen[s]==0:\n",
    "            M[s]=[word]\n",
    "            frozen[s]=1\n",
    "        if frozen[h]==0:\n",
    "            M[h]=[word]\n",
    "            frozen[h]=1\n",
    "    else:\n",
    "        if frozen[h]==0:\n",
    "            M[h]+=[word]\n",
    "    return M,frozen"
   ]
  },
  {
   "cell_type": "code",
   "execution_count": null,
   "id": "8861b0a7",
   "metadata": {},
   "outputs": [],
   "source": [
    "## Now, the simulation. \n",
    "\n",
    "repetitions = 2\n",
    "T = 500000\n",
    "number_nodes = 1024\n",
    "## the simplest version!\n",
    "P = nx.grid_graph(dim=(int(np.sqrt(number_nodes)), int(np.sqrt(number_nodes))),periodic=True)#\n",
    "number_words = 1000\n",
    "V = range(number_words)\n",
    "percentage_over = 4*1/number_nodes\n",
    "\n",
    "number_list = []\n",
    "for r in range(repetitions):\n",
    "    \n",
    "    M = {node:[] for node in P.nodes()}\n",
    "    frozen = {node:0 for node in P.nodes()}\n",
    "    number = []\n",
    "    \n",
    "    for t in range(T):\n",
    "    \n",
    "        a,b = measure_number_words(M)\n",
    "        number+=[[a,b]]\n",
    "    \n",
    "        ## speaker\n",
    "        others = list(P.nodes())\n",
    "        speaker = random.choice(others)\n",
    "        hearer_central = random.choice([node for node in others if P.has_edge(node,speaker)])\n",
    "        ## overhearers (percentage of the neighbors of the speaker)\n",
    "        overhearers = random.sample(list(dict(P[speaker]).keys()),4)#math.ceil(percentage_over*len(P[speaker])))\n",
    "        ## one overhearer to interact with the speaker\n",
    "        word = speaker_rule(speaker,M,V)\n",
    "        ## speaker-hearer interaction!\n",
    "        M,frozen = dynamics_frozen(speaker,hearer_central,word,M,V,frozen)\n",
    "        for hearer in overhearers:\n",
    "            success = hearer_rule(hearer,word,M)\n",
    "            if success == True:\n",
    "                if frozen[hearer]==0:\n",
    "                    M[hearer]=[word]\n",
    "                    frozen[hearer]=1\n",
    "            else:\n",
    "                if frozen[hearer]==0:\n",
    "                    M[hearer]+=[word]     \n",
    "                \n",
    "    number_list+=[number]"
   ]
  },
  {
   "cell_type": "code",
   "execution_count": null,
   "id": "f49a7bf4",
   "metadata": {},
   "outputs": [],
   "source": [
    "numberW = []\n",
    "for item in number_list:\n",
    "    numberW+=[list(zip(*item))[0]]\n",
    "    \n",
    "numberW = [float(sum(col))/len(col) for col in zip(*numberW)]"
   ]
  },
  {
   "cell_type": "code",
   "execution_count": null,
   "id": "1e3add3b",
   "metadata": {},
   "outputs": [],
   "source": [
    "numberD = []\n",
    "for item in number_list:\n",
    "    numberD+=[list(zip(*item))[1]]\n",
    "    \n",
    "numberD = [float(sum(col))/len(col) for col in zip(*numberD)]"
   ]
  },
  {
   "cell_type": "code",
   "execution_count": null,
   "id": "9e73d14d",
   "metadata": {},
   "outputs": [
    {
     "data": {
      "image/png": "[encoded data removed]",
      "text/plain": [
       "<Figure size 432x288 with 1 Axes>"
      ]
     },
     "metadata": {
      "needs_background": "light"
     },
     "output_type": "display_data"
    }
   ],
   "source": [
    "plt.plot(range(len(numberW)), numberW,color='k',linewidth=0.75,marker='o',markersize=3,fillstyle='none',markeredgewidth=1.5,clip_on=False,label=r'$N_w(t)$')\n",
    "plt.plot(range(len(numberD)), numberD,color='m',linewidth=0.75,marker='+',markersize=3,fillstyle='none',markeredgewidth=1.5,clip_on=False,label=r'$N_d(t)$')\n",
    "\n",
    "plt.ticklabel_format(axis='x', style='sci',scilimits=(0,5))\n",
    "plt.legend(loc='best')\n",
    "plt.ylabel('number or words',fontsize=15)\n",
    "plt.xlabel('time $t$',fontsize=15)\n",
    "plt.rcParams.update({'font.size': 12})\n",
    "plt.savefig('remain_frozen_words.pdf', format='pdf', transparent=True, bbox_inches='tight',dpi=800)\n",
    "plt.show()"
   ]
  },
  {
   "cell_type": "code",
   "execution_count": 18,
   "id": "45aabb43",
   "metadata": {},
   "outputs": [],
   "source": [
    "## influences of vocabulary size on the dynamics\n",
    "\n",
    "## Now, the simulation. \n",
    "\n",
    "repetitions = 2\n",
    "T = 500000\n",
    "number_nodes = 1024\n",
    "## the simplest version!\n",
    "P = nx.grid_graph(dim=(int(np.sqrt(number_nodes)), int(np.sqrt(number_nodes))),periodic=True)#\n",
    "percentage_over = 4*1/number_nodes\n",
    "number_words = [10,100,1000]\n",
    "number_dict = {}\n",
    "\n",
    "for N in number_words:\n",
    "    V = range(N)\n",
    "\n",
    "    number_list = []\n",
    "    for r in range(repetitions):\n",
    "    \n",
    "        M = {node:[] for node in P.nodes()}\n",
    "        frozen = {node:0 for node in P.nodes()}\n",
    "        number = []\n",
    "    \n",
    "        for t in range(T):\n",
    "    \n",
    "            a,b = measure_number_words(M)\n",
    "            number+=[[a,b]]\n",
    "    \n",
    "            ## speaker\n",
    "            others = list(P.nodes())\n",
    "            speaker = random.choice(others)\n",
    "            hearer_central = random.choice([node for node in others if P.has_edge(node,speaker)])\n",
    "            ## overhearers (percentage of the neighbors of the speaker)\n",
    "            overhearers = random.sample(list(dict(P[speaker]).keys()),4)#math.ceil(percentage_over*len(P[speaker])))\n",
    "            ## one overhearer to interact with the speaker\n",
    "            word = speaker_rule(speaker,M,V)\n",
    "            ## speaker-hearer interaction!\n",
    "            M,frozen = dynamics_frozen(speaker,hearer_central,word,M,V,frozen)\n",
    "            for hearer in overhearers:\n",
    "                success = hearer_rule(hearer,word,M)\n",
    "                if success == True:\n",
    "                    if frozen[hearer]==0:\n",
    "                        M[hearer]=[word]\n",
    "                        frozen[hearer]=1\n",
    "                else:\n",
    "                    if frozen[hearer]==0:\n",
    "                        M[hearer]+=[word]     \n",
    "                \n",
    "        number_list+=[number]\n",
    "    number_dict[N]=number_list"
   ]
  },
  {
   "cell_type": "code",
   "execution_count": 19,
   "id": "71be25d5",
   "metadata": {},
   "outputs": [],
   "source": [
    "numberW_dict = {}\n",
    "\n",
    "for N in number_dict.keys():\n",
    "    numberW = []\n",
    "    for item in number_list:\n",
    "        numberW+=[list(zip(*item))[0]]\n",
    "    \n",
    "    numberW = [float(sum(col))/len(col) for col in zip(*numberW)]\n",
    "    numberW_dict[N]=numberW"
   ]
  },
  {
   "cell_type": "code",
   "execution_count": null,
   "id": "a9d499ee",
   "metadata": {},
   "outputs": [],
   "source": [
    "numberD_dict = {}\n",
    "\n",
    "for N in number_dict.keys():\n",
    "    numberD = []\n",
    "    for item in number_list:\n",
    "        numberD+=[list(zip(*item))[1]]\n",
    "    \n",
    "    numberD = [float(sum(col))/len(col) for col in zip(*numberD)]\n",
    "    numberD_dict[N]=numberD"
   ]
  },
  {
   "cell_type": "code",
   "execution_count": null,
   "id": "d7550c95",
   "metadata": {},
   "outputs": [],
   "source": []
  }
 ],
 "metadata": {
  "kernelspec": {
   "display_name": "conda_python3",
   "language": "python",
   "name": "conda_python3"
  },
  "language_info": {
   "codemirror_mode": {
    "name": "ipython",
    "version": 3
   },
   "file_extension": ".py",
   "mimetype": "text/x-python",
   "name": "python",
   "nbconvert_exporter": "python",
   "pygments_lexer": "ipython3",
   "version": "3.6.13"
  }
 },
 "nbformat": 4,
 "nbformat_minor": 5
}
