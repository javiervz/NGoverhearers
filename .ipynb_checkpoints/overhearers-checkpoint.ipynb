{
 "cells": [
  {
   "cell_type": "markdown",
   "id": "ca0a045e",
   "metadata": {},
   "source": [
    "## Overhearing population\n",
    "### https://iopscience.iop.org/article/10.1209/0295-5075/101/68004/meta\n",
    "### https://langev.com/pdf/0bqCwMtiFdoJ.pdf"
   ]
  },
  {
   "cell_type": "markdown",
   "id": "d871a931",
   "metadata": {},
   "source": [
    "### 1. basic speaker-hearer rules"
   ]
  },
  {
   "cell_type": "code",
   "execution_count": 2,
   "id": "292cbdc5",
   "metadata": {},
   "outputs": [],
   "source": [
    "## basic speaker-hearer rules\n",
    "\n",
    "import random\n",
    "\n",
    "## s is one node of P (population-graph)\n",
    "## M is the dictionary of memories {node:memory list of node}\n",
    "## V is a predefined vocabulary\n",
    "def speaker_rule(s,M,V):\n",
    "    ## the speaker s selects one word w from her inventory\n",
    "    if len(M[s])==0:\n",
    "        w = random.choice(V)\n",
    "        M[s]+=[w]\n",
    "    else:\n",
    "        w = random.choice(M[s])\n",
    "    return w\n",
    "\n",
    "## h is one node of P (population-graph)\n",
    "## word is the word uttered by the speaker\n",
    "## M is the dictionary of memories {node:memory list of node}\n",
    "def hearer_rule(h,word,M):\n",
    "    ## the hearer receives word \n",
    "    success = False\n",
    "    if word in M[h]:\n",
    "        success = True\n",
    "    return success"
   ]
  },
  {
   "cell_type": "markdown",
   "id": "73d59bbb",
   "metadata": {},
   "source": [
    "### 2. dynamics"
   ]
  },
  {
   "cell_type": "code",
   "execution_count": 3,
   "id": "10c51b10",
   "metadata": {},
   "outputs": [],
   "source": [
    "## s is one node of P (population-graph)\n",
    "## h is one node of P (population-graph)\n",
    "## word is speaker's word\n",
    "## M is the dictionary of memories {node:memory list of node}\n",
    "## V is a predefined vocabulary\n",
    "\n",
    "def dynamics(s,h,word,M,V):\n",
    "    ## hearer's state\n",
    "    success = hearer_rule(h,word,M)\n",
    "    ## alignment strategies\n",
    "    if success == True:\n",
    "        M[s]=[word]\n",
    "        M[h]=[word]\n",
    "    else:\n",
    "        M[h]+=[word]\n",
    "    return M  "
   ]
  },
  {
   "cell_type": "code",
   "execution_count": 27,
   "id": "ac8fae8d",
   "metadata": {},
   "outputs": [],
   "source": [
    "## some measures\n",
    "\n",
    "def measure_number_words(M):\n",
    "    join_M = [item for item in M.values()]\n",
    "    join_M = [item for sublist in join_M for item in sublist]\n",
    "    return [len(join_M),len(set(join_M))]"
   ]
  },
  {
   "cell_type": "code",
   "execution_count": 28,
   "id": "f71f80e0",
   "metadata": {},
   "outputs": [],
   "source": [
    "import networkx as nx\n",
    "\n",
    "T = 10000\n",
    "number_nodes = 100\n",
    "P = nx.complete_graph(number_nodes)\n",
    "number_words = 10\n",
    "V = range(number_words)\n",
    "M = {node:[] for node in P.nodes()}\n",
    "percentage_over = 0.\n",
    "number = []\n",
    "\n",
    "for t in range(T):\n",
    "    \n",
    "    number+=[measure_number_words(M)]\n",
    "    ## speaker\n",
    "    others = list(P.nodes())\n",
    "    speaker = random.choice(others)\n",
    "    ## hearer!=speaker!\n",
    "    others.pop(speaker)\n",
    "    hearer_central = random.choice(others)\n",
    "    ## overhearers (percentage of the neighbors of the speaker)\n",
    "    overhearers = random.sample(list(dict(P[speaker]).keys()),int(percentage_over*len(P[speaker])))\n",
    "    ## one overhearer to interact with the speaker\n",
    "    word = speaker_rule(speaker,M,V)\n",
    "    ## speaker-hearer interaction!\n",
    "    M = dynamics(speaker,hearer_central,word,M,V)\n",
    "    for hearer in overhearers:\n",
    "        success = hearer_rule(hearer,word,M)\n",
    "        if success == True:\n",
    "            M[hearer]=[word]\n",
    "        else:\n",
    "            M[hearer]+=[word]     "
   ]
  },
  {
   "cell_type": "code",
   "execution_count": 30,
   "id": "7d3d0130",
   "metadata": {},
   "outputs": [],
   "source": [
    "numberW = list(zip(*number))[0]\n",
    "numberD = list(zip(*number))[1]"
   ]
  },
  {
   "cell_type": "code",
   "execution_count": null,
   "id": "ea19a392",
   "metadata": {},
   "outputs": [],
   "source": []
  }
 ],
 "metadata": {
  "kernelspec": {
   "display_name": "conda_python3",
   "language": "python",
   "name": "conda_python3"
  },
  "language_info": {
   "codemirror_mode": {
    "name": "ipython",
    "version": 3
   },
   "file_extension": ".py",
   "mimetype": "text/x-python",
   "name": "python",
   "nbconvert_exporter": "python",
   "pygments_lexer": "ipython3",
   "version": "3.6.13"
  }
 },
 "nbformat": 4,
 "nbformat_minor": 5
}
