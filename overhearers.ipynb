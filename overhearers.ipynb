{
 "cells": [
  {
   "cell_type": "markdown",
   "id": "c37cdbf7",
   "metadata": {},
   "source": [
    "## Overhearing population\n",
    "### https://iopscience.iop.org/article/10.1209/0295-5075/101/68004/meta\n",
    "### https://langev.com/pdf/0bqCwMtiFdoJ.pdf"
   ]
  },
  {
   "cell_type": "markdown",
   "id": "4a4c75a1",
   "metadata": {},
   "source": [
    "### 1. basic speaker-hearer rules"
   ]
  },
  {
   "cell_type": "code",
   "execution_count": 2,
   "id": "bb04dcf5",
   "metadata": {},
   "outputs": [],
   "source": [
    "## basic speaker-hearer rules\n",
    "\n",
    "import random\n",
    "\n",
    "## s is one node of P (population-graph)\n",
    "## M is the dictionary of memories {node:memory list of node}\n",
    "## V is a predefined vocabulary\n",
    "def speaker_rule(s,M,V):\n",
    "    ## the speaker s selects one word w from her inventory\n",
    "    if len(M[s])==0:\n",
    "        w = random.choice(V)\n",
    "        M[s]+=[w]\n",
    "    else:\n",
    "        w = random.choice(M[s])\n",
    "    return w\n",
    "\n",
    "## h is one node of P (population-graph)\n",
    "## word is the word uttered by the speaker\n",
    "## M is the dictionary of memories {node:memory list of node}\n",
    "def hearer_rule(h,word,M):\n",
    "    ## the hearer receives word \n",
    "    success = False\n",
    "    if word in M[h]:\n",
    "        success = True\n",
    "    return success"
   ]
  },
  {
   "cell_type": "markdown",
   "id": "c0e3e02a",
   "metadata": {},
   "source": [
    "### 2. dynamics"
   ]
  },
  {
   "cell_type": "code",
   "execution_count": 3,
   "id": "1f2e498e",
   "metadata": {},
   "outputs": [],
   "source": [
    "## s is one node of P (population-graph)\n",
    "## h is one node of P (population-graph)\n",
    "## word is speaker's word\n",
    "## M is the dictionary of memories {node:memory list of node}\n",
    "## V is a predefined vocabulary\n",
    "\n",
    "def dynamics(s,h,word,M,V):\n",
    "    ## hearer's state\n",
    "    success = hearer_rule(h,word,M)\n",
    "    ## alignment strategies\n",
    "    if success == True:\n",
    "        M[s]=[word]\n",
    "        M[h]=[word]\n",
    "    else:\n",
    "        M[h]+=[word]\n",
    "    return M  "
   ]
  },
  {
   "cell_type": "code",
   "execution_count": 10,
   "id": "fae48223",
   "metadata": {},
   "outputs": [],
   "source": [
    "import networkx as nx\n",
    "\n",
    "T = 1000\n",
    "number_nodes = 10\n",
    "P = nx.complete_graph(number_nodes)\n",
    "V = range(10)\n",
    "M = {node:[] for node in P.nodes()}\n",
    "percentage_over = 0.1\n",
    "\n",
    "for t in range(T):\n",
    "    ## speaker\n",
    "    others = list(P.nodes())\n",
    "    speaker = random.choice(others)\n",
    "    ## hearer!=speaker!\n",
    "    others.pop(speaker)\n",
    "    hearer_central = random.choice(others)\n",
    "    ## overhearers (percentage of the neighbors)\n",
    "    overhearers = random.sample(list(dict(P[speaker]).keys()),int(percentage_over*len(P[speaker])))\n",
    "    ## one overhearer to interact with the speaker\n",
    "    word = speaker_rule(speaker,M,V)\n",
    "    ## speaker-hearer interaction!\n",
    "    M = dynamics(speaker,hearer_central,word,M,V)\n",
    "    for hearer in overhearers:\n",
    "        success = hearer_rule(hearer,word,M)\n",
    "        if success == True:\n",
    "            M[hearer]=[word]\n",
    "        else:\n",
    "            M[hearer]+=[word]     "
   ]
  },
  {
   "cell_type": "code",
   "execution_count": 11,
   "id": "7534ce14",
   "metadata": {},
   "outputs": [
    {
     "data": {
      "text/plain": [
       "{0: [0],\n",
       " 1: [0],\n",
       " 2: [0],\n",
       " 3: [0],\n",
       " 4: [0],\n",
       " 5: [0],\n",
       " 6: [0],\n",
       " 7: [0],\n",
       " 8: [0],\n",
       " 9: [0]}"
      ]
     },
     "execution_count": 11,
     "metadata": {},
     "output_type": "execute_result"
    }
   ],
   "source": [
    "M"
   ]
  },
  {
   "cell_type": "code",
   "execution_count": null,
   "id": "9f4b0b23",
   "metadata": {},
   "outputs": [],
   "source": []
  }
 ],
 "metadata": {
  "kernelspec": {
   "display_name": "conda_python3",
   "language": "python",
   "name": "conda_python3"
  },
  "language_info": {
   "codemirror_mode": {
    "name": "ipython",
    "version": 3
   },
   "file_extension": ".py",
   "mimetype": "text/x-python",
   "name": "python",
   "nbconvert_exporter": "python",
   "pygments_lexer": "ipython3",
   "version": "3.6.13"
  }
 },
 "nbformat": 4,
 "nbformat_minor": 5
}
