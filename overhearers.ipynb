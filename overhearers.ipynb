{
 "cells": [
  {
   "cell_type": "markdown",
   "id": "c73332de",
   "metadata": {},
   "source": [
    "## Overhearing population\n",
    "### https://iopscience.iop.org/article/10.1209/0295-5075/101/68004/meta\n",
    "### https://langev.com/pdf/0bqCwMtiFdoJ.pdf"
   ]
  },
  {
   "cell_type": "markdown",
   "id": "5f88f0db",
   "metadata": {},
   "source": [
    "### 1. basic speaker-hearer rules"
   ]
  },
  {
   "cell_type": "code",
   "execution_count": 110,
   "id": "473781c5",
   "metadata": {},
   "outputs": [],
   "source": [
    "## basic speaker-hearer rules\n",
    "\n",
    "import random\n",
    "\n",
    "## s is one node of P (population-graph)\n",
    "## M is the dictionary of memories {node:memory list of node}\n",
    "## V is a predefined vocabulary\n",
    "def speaker_rule(s,M,V):\n",
    "    ## the speaker s selects one word w from her inventory\n",
    "    if len(M[s])==0:\n",
    "        w = random.choice(V)\n",
    "        M[s]+=[w]\n",
    "    else:\n",
    "        w = random.choice(M[s])\n",
    "    return w\n",
    "\n",
    "## h is one node of P (population-graph)\n",
    "## word is the word uttered by the speaker\n",
    "## M is the dictionary of memories {node:memory list of node}\n",
    "def hearer_rule(h,word,M):\n",
    "    ## the hearer receives word \n",
    "    success = False\n",
    "    if word in M[h]:\n",
    "        success = True\n",
    "    return success"
   ]
  },
  {
   "cell_type": "markdown",
   "id": "569f014e",
   "metadata": {},
   "source": [
    "### 2. basic dynamics"
   ]
  },
  {
   "cell_type": "code",
   "execution_count": 111,
   "id": "0f1fba24",
   "metadata": {},
   "outputs": [],
   "source": [
    "## s is one node of P (population-graph)\n",
    "## h is one node of P (population-graph)\n",
    "## word is speaker's word\n",
    "## M is the dictionary of memories {node:memory list of node}\n",
    "## V is a predefined vocabulary\n",
    "\n",
    "def dynamics(s,h,word,M,V):\n",
    "    ## hearer's state\n",
    "    success = hearer_rule(h,word,M)\n",
    "    ## alignment strategies\n",
    "    if success == True:\n",
    "        M[s]=[word]\n",
    "        M[h]=[word]\n",
    "    else:\n",
    "        M[h]+=[word]\n",
    "    return M  "
   ]
  },
  {
   "cell_type": "code",
   "execution_count": 112,
   "id": "5459f746",
   "metadata": {},
   "outputs": [],
   "source": [
    "## some measures\n",
    "\n",
    "def measure_number_words(M):\n",
    "    join_M = [item for item in M.values()]\n",
    "    join_M = [item for sublist in join_M for item in sublist]\n",
    "    return len(join_M),len(set(join_M))"
   ]
  },
  {
   "cell_type": "code",
   "execution_count": null,
   "id": "386314e0",
   "metadata": {},
   "outputs": [],
   "source": [
    "import networkx as nx\n",
    "import math \n",
    "\n",
    "repetitions = 10\n",
    "T = 5000\n",
    "number_nodes = 100\n",
    "## the simplest version!\n",
    "P = nx.complete_graph(number_nodes)\n",
    "number_words = 100\n",
    "V = range(number_words)\n",
    "percentage_over = 0.1#1/number_nodes\n",
    "\n",
    "number_list = []\n",
    "for r in range(repetitions):\n",
    "    \n",
    "    M = {node:[] for node in P.nodes()}\n",
    "    number = []\n",
    "    \n",
    "    for t in range(T):\n",
    "    \n",
    "        a,b = measure_number_words(M)\n",
    "        number+=[[a,b]]\n",
    "    \n",
    "        ## speaker\n",
    "        others = list(P.nodes())\n",
    "        speaker = random.choice(others)\n",
    "        ## hearer!=speaker!\n",
    "        others.pop(speaker)\n",
    "        hearer_central = random.choice(others)\n",
    "        ## overhearers (percentage of the neighbors of the speaker)\n",
    "        overhearers = random.sample(list(dict(P[speaker]).keys()),math.ceil(percentage_over*len(P[speaker])))\n",
    "        ## one overhearer to interact with the speaker\n",
    "        word = speaker_rule(speaker,M,V)\n",
    "        ## speaker-hearer interaction!\n",
    "        M = dynamics(speaker,hearer_central,word,M,V)\n",
    "        for hearer in overhearers:\n",
    "            success = hearer_rule(hearer,word,M)\n",
    "            if success == True:\n",
    "                M[hearer]=[word]\n",
    "            else:\n",
    "                M[hearer]+=[word]    \n",
    "                \n",
    "    number_list+=[number]"
   ]
  },
  {
   "cell_type": "code",
   "execution_count": null,
   "id": "ec3bf26c",
   "metadata": {},
   "outputs": [],
   "source": [
    "numberW = []\n",
    "for item in number_list:\n",
    "    numberW+=[list(zip(*item))[0]]\n",
    "    \n",
    "numberW = [float(sum(col))/len(col) for col in zip(*numberW)]"
   ]
  },
  {
   "cell_type": "code",
   "execution_count": null,
   "id": "dc216acd",
   "metadata": {},
   "outputs": [],
   "source": [
    "numberD = []\n",
    "for item in number_list:\n",
    "    numberD+=[list(zip(*item))[1]]\n",
    "    \n",
    "numberD = [float(sum(col))/len(col) for col in zip(*numberD)]"
   ]
  },
  {
   "cell_type": "code",
   "execution_count": null,
   "id": "203c809e",
   "metadata": {},
   "outputs": [],
   "source": [
    "import matplotlib.pyplot as plt\n",
    "\n",
    "plt.plot(range(len(numberW)), numberW,color='k',linewidth=0.75,marker='o',markersize=3,fillstyle='none',markeredgewidth=1.5,clip_on=False,label=r'$N_w(t)$')\n",
    "plt.plot(range(len(numberD)), numberD,color='m',linewidth=0.75,marker='+',markersize=3,fillstyle='none',markeredgewidth=1.5,clip_on=False,label=r'$N_d(t)$')\n",
    "\n",
    "plt.ticklabel_format(axis='x', style='sci',scilimits=(0,5))\n",
    "plt.legend(loc='best')\n",
    "plt.ylabel('number or words',fontsize=15)\n",
    "plt.xlabel('time $t$',fontsize=15)\n",
    "plt.rcParams.update({'font.size': 12})\n",
    "plt.savefig('words.pdf', format='pdf', transparent=True, bbox_inches='tight',dpi=800)\n",
    "plt.show()"
   ]
  },
  {
   "cell_type": "markdown",
   "id": "d94ba1f0",
   "metadata": {},
   "source": [
    "### 3. frozen overhearers"
   ]
  },
  {
   "cell_type": "code",
   "execution_count": null,
   "id": "44f1d1c5",
   "metadata": {},
   "outputs": [],
   "source": [
    "## In this version, an overhearer may collapse at most one time. \n",
    "\n",
    "repetitions = 10\n",
    "T = 5000\n",
    "number_nodes = 100\n",
    "## the simplest version!\n",
    "P = nx.complete_graph(number_nodes)\n",
    "number_words = 100\n",
    "V = range(number_words)\n",
    "percentage_over = 0.1#1/number_nodes\n",
    "\n",
    "number_list = []\n",
    "for r in range(repetitions):\n",
    "    \n",
    "    M = {node:[] for node in P.nodes()}\n",
    "    frozen = {node:0 for node in P.nodes()}\n",
    "    number = []\n",
    "    \n",
    "    for t in range(T):\n",
    "    \n",
    "        a,b = measure_number_words(M)\n",
    "        number+=[[a,b]]\n",
    "    \n",
    "        ## speaker\n",
    "        others = list(P.nodes())\n",
    "        speaker = random.choice(others)\n",
    "        ## hearer!=speaker!\n",
    "        others.pop(speaker)\n",
    "        hearer_central = random.choice(others)\n",
    "        ## overhearers (percentage of the neighbors of the speaker)\n",
    "        overhearers = random.sample(list(dict(P[speaker]).keys()),math.ceil(percentage_over*len(P[speaker])))\n",
    "        ## one overhearer to interact with the speaker\n",
    "        word = speaker_rule(speaker,M,V)\n",
    "        ## speaker-hearer interaction!\n",
    "        M = dynamics(speaker,hearer_central,word,M,V)\n",
    "        for hearer in overhearers:\n",
    "            success = hearer_rule(hearer,word,M)\n",
    "            if success == True:\n",
    "                if frozen[hearer]==0:\n",
    "                    M[hearer]=[word]\n",
    "                    frozen[hearer]=1\n",
    "            else:\n",
    "                if frozen[hearer]==0:\n",
    "                    M[hearer]+=[word]     \n",
    "                \n",
    "    number_list+=[number]"
   ]
  },
  {
   "cell_type": "code",
   "execution_count": null,
   "id": "944d93dc",
   "metadata": {},
   "outputs": [],
   "source": [
    "numberW = []\n",
    "for item in number_list:\n",
    "    numberW+=[list(zip(*item))[0]]\n",
    "    \n",
    "numberW = [float(sum(col))/len(col) for col in zip(*numberW)]"
   ]
  },
  {
   "cell_type": "code",
   "execution_count": null,
   "id": "b245ca9b",
   "metadata": {},
   "outputs": [],
   "source": [
    "numberD = []\n",
    "for item in number_list:\n",
    "    numberD+=[list(zip(*item))[1]]\n",
    "    \n",
    "numberD = [float(sum(col))/len(col) for col in zip(*numberD)]"
   ]
  },
  {
   "cell_type": "code",
   "execution_count": null,
   "id": "92c3d036",
   "metadata": {},
   "outputs": [],
   "source": [
    "plt.plot(range(len(numberW)), numberW,color='k',linewidth=0.75,marker='o',markersize=3,fillstyle='none',markeredgewidth=1.5,clip_on=False,label=r'$N_w(t)$')\n",
    "plt.plot(range(len(numberD)), numberD,color='m',linewidth=0.75,marker='+',markersize=3,fillstyle='none',markeredgewidth=1.5,clip_on=False,label=r'$N_d(t)$')\n",
    "\n",
    "plt.ticklabel_format(axis='x', style='sci',scilimits=(0,5))\n",
    "plt.legend(loc='best')\n",
    "plt.ylabel('number or words',fontsize=15)\n",
    "plt.xlabel('time $t$',fontsize=15)\n",
    "plt.rcParams.update({'font.size': 12})\n",
    "plt.savefig('frozen_words.pdf', format='pdf', transparent=True, bbox_inches='tight',dpi=800)\n",
    "plt.show()"
   ]
  },
  {
   "cell_type": "code",
   "execution_count": null,
   "id": "7f6075e1",
   "metadata": {},
   "outputs": [],
   "source": [
    "## In this new version, an overhearer remains frozen after one collapse.\n",
    "\n",
    "## s is one node of P (population-graph)\n",
    "## h is one node of P (population-graph)\n",
    "## word is speaker's word\n",
    "## M is the dictionary of memories {node:memory list of node}\n",
    "## V is a predefined vocabulary\n",
    "## frozen is a dictionary of frozen states\n",
    "\n",
    "def dynamics_frozen(s,h,word,M,V,frozen):\n",
    "    ## hearer's state\n",
    "    success = hearer_rule(h,word,M)\n",
    "    ## alignment strategies\n",
    "    if success == True:\n",
    "        if frozen[s]==0:\n",
    "            M[s]=[word]\n",
    "            frozen[s]=1\n",
    "        if frozen[h]==0:\n",
    "            M[h]=[word]\n",
    "            frozen[h]=1\n",
    "    else:\n",
    "        if frozen[h]==0:\n",
    "            M[h]+=[word]\n",
    "    return M,frozen"
   ]
  },
  {
   "cell_type": "code",
   "execution_count": null,
   "id": "9f2152a6",
   "metadata": {},
   "outputs": [],
   "source": [
    "## Now, the simulation. \n",
    "\n",
    "repetitions = 10\n",
    "T = 500\n",
    "number_nodes = 100\n",
    "## the simplest version!\n",
    "P = nx.complete_graph(number_nodes)\n",
    "number_words = 100\n",
    "V = range(number_words)\n",
    "percentage_over = 0.1#1/number_nodes\n",
    "\n",
    "number_list = []\n",
    "for r in range(repetitions):\n",
    "    \n",
    "    M = {node:[] for node in P.nodes()}\n",
    "    frozen = {node:0 for node in P.nodes()}\n",
    "    number = []\n",
    "    \n",
    "    for t in range(T):\n",
    "    \n",
    "        a,b = measure_number_words(M)\n",
    "        number+=[[a,b]]\n",
    "    \n",
    "        ## speaker\n",
    "        others = list(P.nodes())\n",
    "        speaker = random.choice(others)\n",
    "        ## hearer!=speaker!\n",
    "        others.pop(speaker)\n",
    "        hearer_central = random.choice(others)\n",
    "        ## overhearers (percentage of the neighbors of the speaker)\n",
    "        overhearers = random.sample(list(dict(P[speaker]).keys()),math.ceil(percentage_over*len(P[speaker])))\n",
    "        ## one overhearer to interact with the speaker\n",
    "        word = speaker_rule(speaker,M,V)\n",
    "        ## speaker-hearer interaction!\n",
    "        M,frozen = dynamics_frozen(speaker,hearer_central,word,M,V,frozen)\n",
    "        for hearer in overhearers:\n",
    "            success = hearer_rule(hearer,word,M)\n",
    "            if success == True:\n",
    "                if frozen[hearer]==0:\n",
    "                    M[hearer]=[word]\n",
    "                    frozen[hearer]=1\n",
    "            else:\n",
    "                if frozen[hearer]==0:\n",
    "                    M[hearer]+=[word]     \n",
    "                \n",
    "    number_list+=[number]"
   ]
  },
  {
   "cell_type": "code",
   "execution_count": null,
   "id": "174b08c8",
   "metadata": {},
   "outputs": [],
   "source": [
    "numberW = []\n",
    "for item in number_list:\n",
    "    numberW+=[list(zip(*item))[0]]\n",
    "    \n",
    "numberW = [float(sum(col))/len(col) for col in zip(*numberW)]"
   ]
  },
  {
   "cell_type": "code",
   "execution_count": null,
   "id": "f708e01d",
   "metadata": {},
   "outputs": [],
   "source": [
    "numberD = []\n",
    "for item in number_list:\n",
    "    numberD+=[list(zip(*item))[1]]\n",
    "    \n",
    "numberD = [float(sum(col))/len(col) for col in zip(*numberD)]"
   ]
  },
  {
   "cell_type": "code",
   "execution_count": null,
   "id": "541a4744",
   "metadata": {},
   "outputs": [],
   "source": [
    "plt.plot(range(len(numberW)), numberW,color='k',linewidth=0.75,marker='o',markersize=3,fillstyle='none',markeredgewidth=1.5,clip_on=False,label=r'$N_w(t)$')\n",
    "plt.plot(range(len(numberD)), numberD,color='m',linewidth=0.75,marker='+',markersize=3,fillstyle='none',markeredgewidth=1.5,clip_on=False,label=r'$N_d(t)$')\n",
    "\n",
    "plt.ticklabel_format(axis='x', style='sci',scilimits=(0,5))\n",
    "plt.legend(loc='best')\n",
    "plt.ylabel('number or words',fontsize=15)\n",
    "plt.xlabel('time $t$',fontsize=15)\n",
    "plt.rcParams.update({'font.size': 12})\n",
    "plt.savefig('remain_frozen_words.pdf', format='pdf', transparent=True, bbox_inches='tight',dpi=800)\n",
    "plt.show()"
   ]
  },
  {
   "cell_type": "code",
   "execution_count": null,
   "id": "89535ede",
   "metadata": {},
   "outputs": [],
   "source": []
  }
 ],
 "metadata": {
  "kernelspec": {
   "display_name": "conda_python3",
   "language": "python",
   "name": "conda_python3"
  },
  "language_info": {
   "codemirror_mode": {
    "name": "ipython",
    "version": 3
   },
   "file_extension": ".py",
   "mimetype": "text/x-python",
   "name": "python",
   "nbconvert_exporter": "python",
   "pygments_lexer": "ipython3",
   "version": "3.6.13"
  }
 },
 "nbformat": 4,
 "nbformat_minor": 5
}
