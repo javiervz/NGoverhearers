{
 "cells": [
  {
   "cell_type": "markdown",
   "id": "c1b9518d",
   "metadata": {},
   "source": [
    "## Overhearing population\n",
    "### https://iopscience.iop.org/article/10.1209/0295-5075/101/68004/meta\n",
    "### https://langev.com/pdf/0bqCwMtiFdoJ.pdf"
   ]
  },
  {
   "cell_type": "markdown",
   "id": "df1e16c9",
   "metadata": {},
   "source": [
    "### 1. basic speaker-hearer rules"
   ]
  },
  {
   "cell_type": "code",
   "execution_count": 1,
   "id": "633e45fa",
   "metadata": {},
   "outputs": [],
   "source": [
    "## basic speaker-hearer rules\n",
    "\n",
    "import random\n",
    "\n",
    "## s is one node of P (population-graph)\n",
    "## M is the dictionary of memories {node:memory list of node}\n",
    "## V is a predefined vocabulary\n",
    "def speaker_rule(s,M,V):\n",
    "    ## the speaker s selects one word w from her inventory\n",
    "    if len(M[s])==0:\n",
    "        w = random.choice(V)\n",
    "        M[s]+=[w]\n",
    "    else:\n",
    "        w = random.choice(M[s])\n",
    "    return w\n",
    "\n",
    "## h is one node of P (population-graph)\n",
    "## word is the word uttered by the speaker\n",
    "## M is the dictionary of memories {node:memory list of node}\n",
    "def hearer_rule(h,word,M):\n",
    "    ## the hearer receives word \n",
    "    success = False\n",
    "    if word in M[h]:\n",
    "        success = True\n",
    "    return success"
   ]
  },
  {
   "cell_type": "markdown",
   "id": "302b1d8d",
   "metadata": {},
   "source": [
    "### 2. dynamics"
   ]
  },
  {
   "cell_type": "code",
   "execution_count": 2,
   "id": "26c27520",
   "metadata": {},
   "outputs": [],
   "source": [
    "## s is one node of P (population-graph)\n",
    "## h is one node of P (population-graph)\n",
    "## word is speaker's word\n",
    "## M is the dictionary of memories {node:memory list of node}\n",
    "## V is a predefined vocabulary\n",
    "\n",
    "def dynamics(s,h,word,M,V):\n",
    "    ## hearer's state\n",
    "    success = hearer_rule(h,word,M)\n",
    "    ## alignment strategies\n",
    "    if success == True:\n",
    "        M[s]=[word]\n",
    "        M[h]=[word]\n",
    "    else:\n",
    "        M[h]+=[word]\n",
    "    return M  "
   ]
  },
  {
   "cell_type": "code",
   "execution_count": 3,
   "id": "ff590065",
   "metadata": {},
   "outputs": [],
   "source": [
    "## some measures\n",
    "\n",
    "def measure_number_words(M):\n",
    "    join_M = [item for item in M.values()]\n",
    "    join_M = [item for sublist in join_M for item in sublist]\n",
    "    return [len(join_M),len(set(join_M))]"
   ]
  },
  {
   "cell_type": "code",
   "execution_count": 10,
   "id": "c75a9f10",
   "metadata": {},
   "outputs": [],
   "source": [
    "import networkx as nx\n",
    "\n",
    "T = 10000\n",
    "number_nodes = 1000\n",
    "## the simplest version!\n",
    "P = nx.complete_graph(number_nodes)\n",
    "number_words = 10\n",
    "V = range(number_words)\n",
    "M = {node:[] for node in P.nodes()}\n",
    "percentage_over = 0.01\n",
    "number = []\n",
    "\n",
    "for t in range(T):\n",
    "    \n",
    "    number+=[measure_number_words(M)]\n",
    "    ## speaker\n",
    "    others = list(P.nodes())\n",
    "    speaker = random.choice(others)\n",
    "    ## hearer!=speaker!\n",
    "    others.pop(speaker)\n",
    "    hearer_central = random.choice(others)\n",
    "    ## overhearers (percentage of the neighbors of the speaker)\n",
    "    overhearers = random.sample(list(dict(P[speaker]).keys()),int(percentage_over*len(P[speaker])))\n",
    "    ## one overhearer to interact with the speaker\n",
    "    word = speaker_rule(speaker,M,V)\n",
    "    ## speaker-hearer interaction!\n",
    "    M = dynamics(speaker,hearer_central,word,M,V)\n",
    "    for hearer in overhearers:\n",
    "        success = hearer_rule(hearer,word,M)\n",
    "        if success == True:\n",
    "            M[hearer]=[word]\n",
    "        else:\n",
    "            M[hearer]+=[word]     "
   ]
  },
  {
   "cell_type": "code",
   "execution_count": 11,
   "id": "53e07f80",
   "metadata": {},
   "outputs": [],
   "source": [
    "numberW = list(zip(*number))[0]\n",
    "numberD = list(zip(*number))[1]"
   ]
  },
  {
   "cell_type": "code",
   "execution_count": 12,
   "id": "1ce99783",
   "metadata": {},
   "outputs": [
    {
     "data": {
      "image/png": "[encoded data removed]",
      "text/plain": [
       "<Figure size 432x288 with 1 Axes>"
      ]
     },
     "metadata": {
      "needs_background": "light"
     },
     "output_type": "display_data"
    }
   ],
   "source": [
    "import matplotlib.pyplot as plt\n",
    "\n",
    "plt.plot(range(T), numberW,color='k',linewidth=0.75,marker='o',markersize=3,fillstyle='none',markeredgewidth=1.5,clip_on=False,label=r'$N_w(t)$')\n",
    "plt.plot(range(T), numberD,color='m',linewidth=0.75,marker='+',markersize=3,fillstyle='none',markeredgewidth=1.5,clip_on=False,label=r'$N_d(t)$')\n",
    "\n",
    "plt.ticklabel_format(axis='x', style='sci',scilimits=(0,5))\n",
    "plt.legend(loc='best')\n",
    "plt.ylabel('number or words',fontsize=15)\n",
    "plt.xlabel('time $t$',fontsize=15)\n",
    "plt.rcParams.update({'font.size': 12})\n",
    "plt.savefig('words.pdf', format='pdf', transparent=True, bbox_inches='tight',dpi=800)\n",
    "plt.show()"
   ]
  },
  {
   "cell_type": "code",
   "execution_count": null,
   "id": "6c2e4ae4",
   "metadata": {},
   "outputs": [],
   "source": []
  }
 ],
 "metadata": {
  "kernelspec": {
   "display_name": "conda_python3",
   "language": "python",
   "name": "conda_python3"
  },
  "language_info": {
   "codemirror_mode": {
    "name": "ipython",
    "version": 3
   },
   "file_extension": ".py",
   "mimetype": "text/x-python",
   "name": "python",
   "nbconvert_exporter": "python",
   "pygments_lexer": "ipython3",
   "version": "3.6.13"
  }
 },
 "nbformat": 4,
 "nbformat_minor": 5
}
